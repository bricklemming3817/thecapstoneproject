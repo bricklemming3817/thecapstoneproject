{
 "cells": [
  {
   "cell_type": "markdown",
   "metadata": {},
   "source": [
    "# The Capstone Project \n",
    "## Week 2 - Part 1"
   ]
  },
  {
   "cell_type": "markdown",
   "metadata": {},
   "source": [
    "   ### Importing required libraries/modules"
   ]
  },
  {
   "cell_type": "code",
   "execution_count": 1,
   "metadata": {},
   "outputs": [],
   "source": [
    "import pandas as pd"
   ]
  },
  {
   "cell_type": "markdown",
   "metadata": {},
   "source": [
    "   ### Collecting  Data"
   ]
  },
  {
   "cell_type": "code",
   "execution_count": 2,
   "metadata": {},
   "outputs": [
    {
     "data": {
      "text/plain": [
       "(180, 3)"
      ]
     },
     "execution_count": 2,
     "metadata": {},
     "output_type": "execute_result"
    }
   ],
   "source": [
    "df = pd.read_html('https://en.wikipedia.org/wiki/List_of_postal_codes_of_Canada:_M')[0]\n",
    "df.shape"
   ]
  },
  {
   "cell_type": "markdown",
   "metadata": {},
   "source": [
    "### Cleaning the Data"
   ]
  },
  {
   "cell_type": "code",
   "execution_count": 3,
   "metadata": {},
   "outputs": [
    {
     "name": "stdout",
     "output_type": "stream",
     "text": [
      "Checking the data....\n",
      "Dataset cleansing successfull!\n",
      "shape of dataset: (103, 3)\n"
     ]
    }
   ],
   "source": [
    "df.drop(df.loc[df['Borough']== 'Not assigned'].index, inplace = True)# Dropping the row with 'Not Assigned' values in Borough\n",
    "df.reset_index(False, inplace = True)\n",
    "toronto_data = df.drop(['index'], axis = 1)\n",
    "\n",
    "# Checking dataset\n",
    "print('Checking the data....')\n",
    "if toronto_data.loc[toronto_data['Borough']=='Not assigned'].shape == (0,3):\n",
    "    print('Dataset cleansing successfull!')\n",
    "    print('shape of dataset:', toronto_data.shape)\n",
    "else:\n",
    "    print('Dataset needs to be cleaned!')\n",
    "    print('number of not assigned values:', toronto_data.loc[toronto_data['Borough'] == 'Not assigned'].shape[0])\n",
    "\n"
   ]
  },
  {
   "cell_type": "code",
   "execution_count": 4,
   "metadata": {},
   "outputs": [
    {
     "name": "stdout",
     "output_type": "stream",
     "text": [
      "number of rows of dataset 103\n"
     ]
    }
   ],
   "source": [
    "print('number of rows of dataset', toronto_data.shape[0])"
   ]
  },
  {
   "cell_type": "code",
   "execution_count": null,
   "metadata": {},
   "outputs": [],
   "source": []
  }
 ],
 "metadata": {
  "kernelspec": {
   "display_name": "Python 3",
   "language": "python",
   "name": "python3"
  },
  "language_info": {
   "codemirror_mode": {
    "name": "ipython",
    "version": 3
   },
   "file_extension": ".py",
   "mimetype": "text/x-python",
   "name": "python",
   "nbconvert_exporter": "python",
   "pygments_lexer": "ipython3",
   "version": "3.7.3"
  }
 },
 "nbformat": 4,
 "nbformat_minor": 2
}
